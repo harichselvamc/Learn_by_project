{
 "cells": [
  {
   "cell_type": "markdown",
   "metadata": {},
   "source": [
    "# 1. Greeting Project \n",
    "\n",
    "## Instruction\n",
    "\n",
    "Write a program that uses input to prompt a user for their name and then welcomes them.\n",
    "\n",
    "## Input\n",
    "\n",
    "```\n",
    "hari\n",
    "```\n",
    "\n",
    "## Output\n",
    "```\n",
    "Hello hari.\n",
    "Wellcome to the Python\n",
    "```"
   ]
  },
  {
   "cell_type": "code",
   "execution_count": null,
   "metadata": {},
   "outputs": [],
   "source": [
    "#Code here"
   ]
  },
  {
   "cell_type": "markdown",
   "metadata": {},
   "source": [
    "# 2. Group Name Project \n",
    "\n",
    "## Instruction\n",
    "\n",
    "1. Create a greeting for your program.\n",
    "2. Ask the user for their favorite color.\n",
    "3. Ask the user for their favotire animal.\n",
    "4. Combine the name of their favorite color and animal and show them their group name.\n",
    "\n",
    "## Examples\n",
    "\n",
    "```\n",
    "Welcome to the Group Name Generator.\n",
    "What's your favorite color?\n",
    "> Red\n",
    "What's your favorite animal?\n",
    "> Lion\n",
    "Your group name could be Red Lions\n",
    "```\n",
    "\n"
   ]
  },
  {
   "cell_type": "code",
   "execution_count": null,
   "metadata": {},
   "outputs": [],
   "source": [
    "#code here"
   ]
  },
  {
   "cell_type": "markdown",
   "metadata": {},
   "source": [
    "# 3. Gross Pay Project \n",
    "\n",
    "## Instruction\n",
    "\n",
    "Write a program to prompt the user for hours and rate per hour to compute gross pay. You need to take into account that the result has exactly two digits after the decimal place.\n",
    "\n",
    "## Input\n",
    "\n",
    "```\n",
    "Enter Hours: 35\n",
    "Enter Rate: 2.75\n",
    "\n",
    "```\n",
    "\n",
    "## Output\n",
    "```\n",
    "Pay: 96.25\n",
    "```\n",
    "\n"
   ]
  },
  {
   "cell_type": "code",
   "execution_count": 1,
   "metadata": {},
   "outputs": [],
   "source": [
    "#code here"
   ]
  },
  {
   "cell_type": "markdown",
   "metadata": {},
   "source": [
    "#  4. Celsius to Fahrenheit Project \n",
    "\n",
    "## Instruction\n",
    "\n",
    "Write a program which prompts the user for a Celsius temperature, convert the temperature to Fahrenheit, and print out the converted temperature.\n",
    "Formula : (°C × 9/5) + 32 = °F\n",
    "\n",
    "## Input\n",
    "\n",
    "```\n",
    "Enter Temperature in Celsius: 10\n",
    "```\n",
    "\n",
    "## Output\n",
    "```\n",
    "10 Celsius = 50 Fahrenheit\n",
    "```\n",
    "\n"
   ]
  },
  {
   "cell_type": "code",
   "execution_count": 3,
   "metadata": {},
   "outputs": [],
   "source": [
    "#code here"
   ]
  },
  {
   "cell_type": "markdown",
   "metadata": {},
   "source": [
    "# 5. Trip Cost Calculator Project \n",
    "\n",
    "## Instruction\n",
    "\n",
    "Write a program which calculates trip cost for a user. \n",
    "1. Create a greeting for your program.\n",
    "2. Ask the user for number of days.\n",
    "3. Ask the user for hotel price.\n",
    "4. Ask the user for flight price.\n",
    "5. Ask the user for rental car price.\n",
    "6. Ask for other expenses.\n",
    "4. Combine all expenses together and print with 2 digits after decimal places.\n",
    "\n",
    "## Input\n",
    "\n",
    "```\n",
    "Welcome to the Trip Cost Calculator!\n",
    "How many days will you stay? 3\n",
    "How much does hotel cost per night? 300\n",
    "How much does flight cost? 5000\n",
    "If you need rental car please enter the price otherwise enter zero. 1000\n",
    "Enter other possible expenses 2000\n",
    "\n",
    "```\n",
    "\n",
    "## Output\n",
    "```\n",
    "Total Cost: 170.0\n",
    "```\n",
    "\n"
   ]
  },
  {
   "cell_type": "code",
   "execution_count": 5,
   "metadata": {},
   "outputs": [],
   "source": [
    "\n",
    "# code here"
   ]
  },
  {
   "cell_type": "markdown",
   "metadata": {},
   "source": [
    "# 6. Even or Odd \n",
    "\n",
    "## Instruction\n",
    "\n",
    "Write a program that takes an integer number from console and checks whether if a number is an odd or even.\n",
    "\n",
    "\n",
    "## Input\n",
    "\n",
    "```\n",
    "100\n",
    "\n",
    "```\n",
    "\n",
    "## Output\n",
    "```\n",
    "Even\n",
    "```\n",
    "\n",
    "\n",
    "\n",
    "#### Hint\n",
    "\n",
    "Use modulus operator that we have learnt in previous section"
   ]
  }
 ],
 "metadata": {
  "kernelspec": {
   "display_name": "Python 3",
   "language": "python",
   "name": "python3"
  },
  "language_info": {
   "codemirror_mode": {
    "name": "ipython",
    "version": 3
   },
   "file_extension": ".py",
   "mimetype": "text/x-python",
   "name": "python",
   "nbconvert_exporter": "python",
   "pygments_lexer": "ipython3",
   "version": "3.11.7"
  }
 },
 "nbformat": 4,
 "nbformat_minor": 2
}
